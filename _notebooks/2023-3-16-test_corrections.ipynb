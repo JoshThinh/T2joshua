{
 "cells": [
  {
   "cell_type": "markdown",
   "metadata": {},
   "source": [
    "---\n",
    "comments: true\n",
    "layout: post\n",
    "title: MCQ 2021 test correction\n",
    "description: Questions and sample Python code to represent the most frequently missed questions on the 2020 AP Computer Science A Multiple Choice Exam. \n",
    "type: collab\n",
    "courses: { csp: {week: 26} }\n",
    "---"
   ]
  },
  {
   "cell_type": "markdown",
   "metadata": {},
   "source": [
    "## Test Corrections\n",
    "\n",
    "## Question 3:\n",
    "[![Screenshot-2024-03-15-092047.png](https://i.postimg.cc/RVjQBqd0/Screenshot-2024-03-15-092047.png)](https://postimg.cc/1frN0mLx)\n",
    "\n",
    "Explanation: The first variable equals 100 while the second equals 200. Temp is set to first which is equal to 100. Then Second is assigned temp which would make it 100. Then second is equal to first making it 100 as well.\n",
    "\n",
    "## Question 9:\n",
    "[![Screenshot-2024-03-15-093140.png](https://i.postimg.cc/0Qb0vSTb/Screenshot-2024-03-15-093140.png)](https://postimg.cc/TLvDqKY6)\n",
    "\n",
    "Explanation: A analog signal are digitally in discrete intervals over time. These samples produced are represented at the lowest level like all digital data at in sequences of bits.\n",
    "\n",
    "## Question 35:\n",
    "[![Screenshot-2024-03-15-093744.png](https://i.postimg.cc/prjQhHXv/Screenshot-2024-03-15-093744.png)](https://postimg.cc/QKXKwvTY)\n",
    "\n",
    "Explanation: The data presented only displays the month and year of each ticket being given. The database does not show any data about tickets being given during the weekends or weekdays.\n",
    "\n",
    "## Question 41:\n",
    "[![Screenshot-2024-03-15-093927.png](https://i.postimg.cc/KY4M32JW/Screenshot-2024-03-15-093927.png)](https://postimg.cc/Ff5Rw2tb)\n",
    "\n",
    "Explanation: Crowdsourcing is gathering input or information from a large number of people on the internet. An example of this could be information gathered from players of a game on another player.\n",
    "\n",
    "## Question 46:\n",
    "[![Screenshot-2024-03-15-094032.png](https://i.postimg.cc/G3MnqnQK/Screenshot-2024-03-15-094032.png)](https://postimg.cc/z3RQGM4H)\n",
    "\n",
    "Explanation: The first one would be included because the rows would be affected when the filter was given. The order of when each action takes place doesn't matter. Also the filtering doesn't matter when it happens and can occur before or after the spreadsheet sorts it by rating.\n",
    "\n",
    "## Question 59:\n",
    "[![Screenshot-2024-03-15-094136.png](https://i.postimg.cc/mr309vkQ/Screenshot-2024-03-15-094136.png)](https://postimg.cc/qtRbVZ8R)\n",
    "\n",
    "Explanation: It is also required to know where the location of the user is other than Adrianna to share Adrianna's running route with nearby users. This information is not on Adrianna's device and is collected from other users.\n",
    "\n",
    "## Question 68:\n",
    "[![Screenshot-2024-03-18-084530.png](https://i.postimg.cc/9MJK8yG0/Screenshot-2024-03-18-084530.png)](https://postimg.cc/9RwLzRgH)\n",
    "\n",
    "Explanation: The code will go from right to left. In the process of operating it will remove every element that is equal in value to whatever is proceding it. Within this list, the code will remove the sixth element(10), the fourth element(20), and the second element(10). This would display (10, 20, 10), This would still contain duplicates.\n",
    "\n",
    "## Question 69:\n",
    "[![Screenshot-2024-03-18-084642.png](https://i.postimg.cc/wTtZ2y3x/Screenshot-2024-03-18-084642.png)](https://postimg.cc/zVrxXfn4)\n",
    "\n",
    "Explanation: C would not be included because a good picture printed in black and white would make it hard to find the data, time, and location. Colors of the photo would help find this information.\n",
    "\n",
    "## Question 70:\n",
    "[![Screenshot-2024-03-18-084734.png](https://i.postimg.cc/KY5Hjtpf/Screenshot-2024-03-18-084734.png)](https://postimg.cc/McvDrfSf)\n",
    "\n",
    "Explanation: This code will change the characters on the left of n into a newStr. This will make it consist of characters located on the right of n. This would be something like oldStr being \"best\" and n is equal to 3. The codew ill asign \"be\" to the newStr. Then it will add \"t\" making the final result to \"bet\" as the newStr."
   ]
  }
 ],
 "metadata": {
  "language_info": {
   "name": "python"
  }
 },
 "nbformat": 4,
 "nbformat_minor": 2
}
